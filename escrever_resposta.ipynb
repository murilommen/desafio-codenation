{
 "cells": [
  {
   "cell_type": "code",
   "execution_count": 3,
   "metadata": {},
   "outputs": [],
   "source": [
    "import pandas as pd \n",
    "import numpy as np\n",
    "import seaborn as sns\n",
    "import matplotlib.pyplot as plt"
   ]
  },
  {
   "cell_type": "code",
   "execution_count": 4,
   "metadata": {},
   "outputs": [],
   "source": [
    "df = pd.read_csv('train.csv')"
   ]
  },
  {
   "cell_type": "code",
   "execution_count": 19,
   "metadata": {},
   "outputs": [
    {
     "data": {
      "text/html": [
       "<div>\n",
       "<style scoped>\n",
       "    .dataframe tbody tr th:only-of-type {\n",
       "        vertical-align: middle;\n",
       "    }\n",
       "\n",
       "    .dataframe tbody tr th {\n",
       "        vertical-align: top;\n",
       "    }\n",
       "\n",
       "    .dataframe thead th {\n",
       "        text-align: right;\n",
       "    }\n",
       "</style>\n",
       "<table border=\"1\" class=\"dataframe\">\n",
       "  <thead>\n",
       "    <tr style=\"text-align: right;\">\n",
       "      <th></th>\n",
       "      <th>NU_NOTA_CN</th>\n",
       "      <th>NU_NOTA_CH</th>\n",
       "      <th>NU_NOTA_LC</th>\n",
       "      <th>NU_NOTA_REDACAO</th>\n",
       "    </tr>\n",
       "  </thead>\n",
       "  <tbody>\n",
       "    <tr>\n",
       "      <th>0</th>\n",
       "      <td>436.3</td>\n",
       "      <td>495.4</td>\n",
       "      <td>581.2</td>\n",
       "      <td>520.0</td>\n",
       "    </tr>\n",
       "    <tr>\n",
       "      <th>1</th>\n",
       "      <td>474.5</td>\n",
       "      <td>544.1</td>\n",
       "      <td>599.0</td>\n",
       "      <td>580.0</td>\n",
       "    </tr>\n",
       "    <tr>\n",
       "      <th>5</th>\n",
       "      <td>439.7</td>\n",
       "      <td>583.2</td>\n",
       "      <td>410.9</td>\n",
       "      <td>620.0</td>\n",
       "    </tr>\n",
       "    <tr>\n",
       "      <th>6</th>\n",
       "      <td>420.1</td>\n",
       "      <td>604.2</td>\n",
       "      <td>484.5</td>\n",
       "      <td>560.0</td>\n",
       "    </tr>\n",
       "    <tr>\n",
       "      <th>7</th>\n",
       "      <td>619.6</td>\n",
       "      <td>625.8</td>\n",
       "      <td>611.2</td>\n",
       "      <td>620.0</td>\n",
       "    </tr>\n",
       "  </tbody>\n",
       "</table>\n",
       "</div>"
      ],
      "text/plain": [
       "   NU_NOTA_CN  NU_NOTA_CH  NU_NOTA_LC  NU_NOTA_REDACAO\n",
       "0       436.3       495.4       581.2            520.0\n",
       "1       474.5       544.1       599.0            580.0\n",
       "5       439.7       583.2       410.9            620.0\n",
       "6       420.1       604.2       484.5            560.0\n",
       "7       619.6       625.8       611.2            620.0"
      ]
     },
     "execution_count": 19,
     "metadata": {},
     "output_type": "execute_result"
    }
   ],
   "source": [
    "x_raw = df[['NU_NOTA_CN', 'NU_NOTA_CH', 'NU_NOTA_LC','NU_NOTA_REDACAO']]\n",
    "x_raw.head()"
   ]
  },
  {
   "cell_type": "code",
   "execution_count": 20,
   "metadata": {},
   "outputs": [
    {
     "data": {
      "text/plain": [
       "0    399.4\n",
       "1    459.8\n",
       "5    364.5\n",
       "6    529.2\n",
       "7    566.7\n",
       "Name: NU_NOTA_MT, dtype: float64"
      ]
     },
     "execution_count": 20,
     "metadata": {},
     "output_type": "execute_result"
    }
   ],
   "source": [
    "y_raw = df['NU_NOTA_MT']\n",
    "y_raw.head()"
   ]
  },
  {
   "cell_type": "code",
   "execution_count": 21,
   "metadata": {},
   "outputs": [],
   "source": [
    "# juntar matrizes e tirar NaNs\n",
    "df = pd.concat([x_raw,y_raw], join='outer', axis=1).dropna(axis=0)\n",
    "# tirar zeros\n",
    "#df = df[(df != 0).all(1)]"
   ]
  },
  {
   "cell_type": "code",
   "execution_count": 22,
   "metadata": {},
   "outputs": [],
   "source": [
    "X = df[['NU_NOTA_CN', 'NU_NOTA_CH', 'NU_NOTA_LC','NU_NOTA_REDACAO']]\n",
    "Y = df['NU_NOTA_MT']"
   ]
  },
  {
   "cell_type": "code",
   "execution_count": 23,
   "metadata": {},
   "outputs": [
    {
     "name": "stdout",
     "output_type": "stream",
     "text": [
      "0\n"
     ]
    }
   ],
   "source": [
    "#checar se existem strings\n",
    "check = Y.eq(str).all()\n",
    "print(check.sum())"
   ]
  },
  {
   "cell_type": "code",
   "execution_count": 24,
   "metadata": {},
   "outputs": [
    {
     "name": "stdout",
     "output_type": "stream",
     "text": [
      "0\n"
     ]
    }
   ],
   "source": [
    "#checar se existem NaNs\n",
    "check = Y.isna().all()\n",
    "print(check.sum())"
   ]
  },
  {
   "cell_type": "code",
   "execution_count": 25,
   "metadata": {},
   "outputs": [
    {
     "data": {
      "text/html": [
       "<div>\n",
       "<style scoped>\n",
       "    .dataframe tbody tr th:only-of-type {\n",
       "        vertical-align: middle;\n",
       "    }\n",
       "\n",
       "    .dataframe tbody tr th {\n",
       "        vertical-align: top;\n",
       "    }\n",
       "\n",
       "    .dataframe thead th {\n",
       "        text-align: right;\n",
       "    }\n",
       "</style>\n",
       "<table border=\"1\" class=\"dataframe\">\n",
       "  <thead>\n",
       "    <tr style=\"text-align: right;\">\n",
       "      <th></th>\n",
       "      <th>NU_NOTA_CN</th>\n",
       "      <th>NU_NOTA_CH</th>\n",
       "      <th>NU_NOTA_LC</th>\n",
       "      <th>NU_NOTA_REDACAO</th>\n",
       "    </tr>\n",
       "  </thead>\n",
       "  <tbody>\n",
       "    <tr>\n",
       "      <th>8494</th>\n",
       "      <td>490.7</td>\n",
       "      <td>537.2</td>\n",
       "      <td>396.8</td>\n",
       "      <td>340.0</td>\n",
       "    </tr>\n",
       "    <tr>\n",
       "      <th>7990</th>\n",
       "      <td>455.3</td>\n",
       "      <td>507.8</td>\n",
       "      <td>495.0</td>\n",
       "      <td>500.0</td>\n",
       "    </tr>\n",
       "    <tr>\n",
       "      <th>17</th>\n",
       "      <td>474.4</td>\n",
       "      <td>540.0</td>\n",
       "      <td>517.4</td>\n",
       "      <td>460.0</td>\n",
       "    </tr>\n",
       "    <tr>\n",
       "      <th>4682</th>\n",
       "      <td>567.7</td>\n",
       "      <td>551.6</td>\n",
       "      <td>605.1</td>\n",
       "      <td>780.0</td>\n",
       "    </tr>\n",
       "    <tr>\n",
       "      <th>2461</th>\n",
       "      <td>392.3</td>\n",
       "      <td>512.2</td>\n",
       "      <td>516.9</td>\n",
       "      <td>420.0</td>\n",
       "    </tr>\n",
       "  </tbody>\n",
       "</table>\n",
       "</div>"
      ],
      "text/plain": [
       "      NU_NOTA_CN  NU_NOTA_CH  NU_NOTA_LC  NU_NOTA_REDACAO\n",
       "8494       490.7       537.2       396.8            340.0\n",
       "7990       455.3       507.8       495.0            500.0\n",
       "17         474.4       540.0       517.4            460.0\n",
       "4682       567.7       551.6       605.1            780.0\n",
       "2461       392.3       512.2       516.9            420.0"
      ]
     },
     "execution_count": 25,
     "metadata": {},
     "output_type": "execute_result"
    }
   ],
   "source": [
    "from sklearn.model_selection import train_test_split\n",
    "X_train, X_test, Y_train, Y_test = train_test_split(X,Y,test_size=0.15,random_state=None)\n",
    "X_train.head()"
   ]
  },
  {
   "cell_type": "code",
   "execution_count": 43,
   "metadata": {},
   "outputs": [
    {
     "data": {
      "text/plain": [
       "LinearRegression(copy_X=True, fit_intercept=True, n_jobs=None, normalize=True)"
      ]
     },
     "execution_count": 43,
     "metadata": {},
     "output_type": "execute_result"
    }
   ],
   "source": [
    "from sklearn.linear_model import LinearRegression\n",
    "modelo = LinearRegression(normalize=True)\n",
    "modelo.fit(X_train,Y_train)"
   ]
  },
  {
   "cell_type": "code",
   "execution_count": 34,
   "metadata": {},
   "outputs": [],
   "source": [
    "y_previsto = modelo.predict(X_test)"
   ]
  },
  {
   "cell_type": "code",
   "execution_count": 35,
   "metadata": {},
   "outputs": [
    {
     "name": "stdout",
     "output_type": "stream",
     "text": [
      "R²: 0.424\n"
     ]
    }
   ],
   "source": [
    "from sklearn.metrics import r2_score\n",
    "print('R²: %s' % r2_score(Y_test, y_previsto).round(3))"
   ]
  },
  {
   "cell_type": "code",
   "execution_count": 37,
   "metadata": {},
   "outputs": [
    {
     "data": {
      "text/plain": [
       "LinearRegression(copy_X=True, fit_intercept=True, n_jobs=None, normalize=True)"
      ]
     },
     "execution_count": 37,
     "metadata": {},
     "output_type": "execute_result"
    }
   ],
   "source": [
    "#tentativa com polinomio\n",
    "from sklearn.preprocessing import PolynomialFeatures\n",
    "poly_reg = PolynomialFeatures(degree = 3)\n",
    "\n",
    "X_poly = poly_reg.fit_transform(X_train)\n",
    "\n",
    "poly_reg.fit(X_poly, Y_train)\n",
    "modelo.fit(X_poly, Y_train)"
   ]
  },
  {
   "cell_type": "code",
   "execution_count": 39,
   "metadata": {},
   "outputs": [
    {
     "data": {
      "text/plain": [
       "array([[1.00000000e+00, 5.65200000e+02, 5.58400000e+02, ...,\n",
       "        1.76862942e+08, 2.05308040e+08, 2.38328000e+08],\n",
       "       [1.00000000e+00, 4.41200000e+02, 5.80800000e+02, ...,\n",
       "        1.82673857e+08, 2.61118080e+08, 3.73248000e+08],\n",
       "       [1.00000000e+00, 5.38000000e+02, 5.37600000e+02, ...,\n",
       "        1.25515359e+08, 1.32847520e+08, 1.40608000e+08],\n",
       "       ...,\n",
       "       [1.00000000e+00, 5.99700000e+02, 6.17400000e+02, ...,\n",
       "        2.29231686e+08, 3.17217920e+08, 4.38976000e+08],\n",
       "       [1.00000000e+00, 4.54500000e+02, 4.98800000e+02, ...,\n",
       "        6.53210136e+07, 3.00499200e+07, 1.38240000e+07],\n",
       "       [1.00000000e+00, 4.34500000e+02, 4.86000000e+02, ...,\n",
       "        8.17339906e+07, 5.66786800e+07, 3.93040000e+07]])"
      ]
     },
     "execution_count": 39,
     "metadata": {},
     "output_type": "execute_result"
    }
   ],
   "source": [
    "X_poly2 = poly_reg.fit_transform(X_test)\n",
    "X_poly2"
   ]
  },
  {
   "cell_type": "code",
   "execution_count": 40,
   "metadata": {},
   "outputs": [],
   "source": [
    "y_previsto2 = modelo.predict(X_poly2)\n",
    "y_previsto2 = pd.DataFrame(y_previsto2)"
   ]
  },
  {
   "cell_type": "code",
   "execution_count": 41,
   "metadata": {},
   "outputs": [
    {
     "name": "stdout",
     "output_type": "stream",
     "text": [
      "R²: 0.464\n"
     ]
    }
   ],
   "source": [
    "print('R²: %s' % r2_score(Y_test, y_previsto2).round(3))"
   ]
  },
  {
   "cell_type": "markdown",
   "metadata": {},
   "source": [
    "# Treinar com toda a planilha"
   ]
  },
  {
   "cell_type": "code",
   "execution_count": 44,
   "metadata": {},
   "outputs": [
    {
     "data": {
      "text/plain": [
       "sklearn.linear_model.base.LinearRegression"
      ]
     },
     "execution_count": 44,
     "metadata": {},
     "output_type": "execute_result"
    }
   ],
   "source": [
    "poly_reg = PolynomialFeatures(degree = 3)\n",
    "\n",
    "X_poly = poly_reg.fit_transform(X)\n",
    "\n",
    "poly_reg.fit(X_poly, Y)\n",
    "modelo.fit(X_poly, Y)\n",
    "type(modelo)"
   ]
  },
  {
   "cell_type": "code",
   "execution_count": 46,
   "metadata": {},
   "outputs": [],
   "source": [
    "df2 = pd.read_csv('test.csv')"
   ]
  },
  {
   "cell_type": "code",
   "execution_count": 47,
   "metadata": {},
   "outputs": [
    {
     "data": {
      "text/html": [
       "<div>\n",
       "<style scoped>\n",
       "    .dataframe tbody tr th:only-of-type {\n",
       "        vertical-align: middle;\n",
       "    }\n",
       "\n",
       "    .dataframe tbody tr th {\n",
       "        vertical-align: top;\n",
       "    }\n",
       "\n",
       "    .dataframe thead th {\n",
       "        text-align: right;\n",
       "    }\n",
       "</style>\n",
       "<table border=\"1\" class=\"dataframe\">\n",
       "  <thead>\n",
       "    <tr style=\"text-align: right;\">\n",
       "      <th></th>\n",
       "      <th>NU_NOTA_CN</th>\n",
       "      <th>NU_NOTA_CH</th>\n",
       "      <th>NU_NOTA_LC</th>\n",
       "      <th>NU_NOTA_REDACAO</th>\n",
       "    </tr>\n",
       "  </thead>\n",
       "  <tbody>\n",
       "    <tr>\n",
       "      <th>0</th>\n",
       "      <td>464.8</td>\n",
       "      <td>443.5</td>\n",
       "      <td>431.8</td>\n",
       "      <td>420.0</td>\n",
       "    </tr>\n",
       "    <tr>\n",
       "      <th>1</th>\n",
       "      <td>391.1</td>\n",
       "      <td>491.1</td>\n",
       "      <td>548.0</td>\n",
       "      <td>580.0</td>\n",
       "    </tr>\n",
       "    <tr>\n",
       "      <th>2</th>\n",
       "      <td>595.9</td>\n",
       "      <td>622.7</td>\n",
       "      <td>613.6</td>\n",
       "      <td>320.0</td>\n",
       "    </tr>\n",
       "    <tr>\n",
       "      <th>4</th>\n",
       "      <td>592.9</td>\n",
       "      <td>492.6</td>\n",
       "      <td>571.4</td>\n",
       "      <td>320.0</td>\n",
       "    </tr>\n",
       "    <tr>\n",
       "      <th>5</th>\n",
       "      <td>414.5</td>\n",
       "      <td>568.5</td>\n",
       "      <td>542.5</td>\n",
       "      <td>560.0</td>\n",
       "    </tr>\n",
       "  </tbody>\n",
       "</table>\n",
       "</div>"
      ],
      "text/plain": [
       "   NU_NOTA_CN  NU_NOTA_CH  NU_NOTA_LC  NU_NOTA_REDACAO\n",
       "0       464.8       443.5       431.8            420.0\n",
       "1       391.1       491.1       548.0            580.0\n",
       "2       595.9       622.7       613.6            320.0\n",
       "4       592.9       492.6       571.4            320.0\n",
       "5       414.5       568.5       542.5            560.0"
      ]
     },
     "execution_count": 47,
     "metadata": {},
     "output_type": "execute_result"
    }
   ],
   "source": [
    "x2 = df2[['NU_NOTA_CN', 'NU_NOTA_CH', 'NU_NOTA_LC','NU_NOTA_REDACAO']].dropna(thresh=3)\n",
    "x2.head()"
   ]
  },
  {
   "cell_type": "code",
   "execution_count": 48,
   "metadata": {},
   "outputs": [
    {
     "data": {
      "text/plain": [
       "array([[1.00000000e+00, 4.64800000e+02, 4.43500000e+02, ...,\n",
       "        7.83095208e+07, 7.61695200e+07, 7.40880000e+07],\n",
       "       [1.00000000e+00, 3.91100000e+02, 4.91100000e+02, ...,\n",
       "        1.74176320e+08, 1.84347200e+08, 1.95112000e+08],\n",
       "       [1.00000000e+00, 5.95900000e+02, 6.22700000e+02, ...,\n",
       "        1.20481587e+08, 6.28326400e+07, 3.27680000e+07],\n",
       "       ...,\n",
       "       [1.00000000e+00, 4.27600000e+02, 5.79700000e+02, ...,\n",
       "        1.15406309e+08, 1.27385440e+08, 1.40608000e+08],\n",
       "       [1.00000000e+00, 6.39200000e+02, 6.43800000e+02, ...,\n",
       "        2.34178566e+08, 2.47767040e+08, 2.62144000e+08],\n",
       "       [1.00000000e+00, 4.27100000e+02, 4.67900000e+02, ...,\n",
       "        1.51744341e+08, 1.46070080e+08, 1.40608000e+08]])"
      ]
     },
     "execution_count": 48,
     "metadata": {},
     "output_type": "execute_result"
    }
   ],
   "source": [
    "X_poly3 = poly_reg.fit_transform(x2)\n",
    "poly_reg.fit(X_poly3)\n",
    "X_poly3"
   ]
  },
  {
   "cell_type": "code",
   "execution_count": 49,
   "metadata": {},
   "outputs": [
    {
     "data": {
      "text/plain": [
       "3360"
      ]
     },
     "execution_count": 49,
     "metadata": {},
     "output_type": "execute_result"
    }
   ],
   "source": [
    "notas_matematica = modelo.predict(X_poly3)\n",
    "len(notas_matematica)"
   ]
  },
  {
   "cell_type": "code",
   "execution_count": 50,
   "metadata": {},
   "outputs": [
    {
     "data": {
      "text/plain": [
       "3360"
      ]
     },
     "execution_count": 50,
     "metadata": {},
     "output_type": "execute_result"
    }
   ],
   "source": [
    "dados = df2[['NU_INSCRICAO','NU_NOTA_CN', 'NU_NOTA_CH', 'NU_NOTA_LC','NU_NOTA_REDACAO']].dropna()\n",
    "len(dados)"
   ]
  },
  {
   "cell_type": "code",
   "execution_count": 51,
   "metadata": {},
   "outputs": [
    {
     "data": {
      "text/html": [
       "<div>\n",
       "<style scoped>\n",
       "    .dataframe tbody tr th:only-of-type {\n",
       "        vertical-align: middle;\n",
       "    }\n",
       "\n",
       "    .dataframe tbody tr th {\n",
       "        vertical-align: top;\n",
       "    }\n",
       "\n",
       "    .dataframe thead th {\n",
       "        text-align: right;\n",
       "    }\n",
       "</style>\n",
       "<table border=\"1\" class=\"dataframe\">\n",
       "  <thead>\n",
       "    <tr style=\"text-align: right;\">\n",
       "      <th></th>\n",
       "      <th>NU_INSCRICAO</th>\n",
       "      <th>NU_NOTA_CN</th>\n",
       "      <th>NU_NOTA_CH</th>\n",
       "      <th>NU_NOTA_LC</th>\n",
       "      <th>NU_NOTA_REDACAO</th>\n",
       "      <th>NU_NOTA_MT</th>\n",
       "    </tr>\n",
       "  </thead>\n",
       "  <tbody>\n",
       "    <tr>\n",
       "      <th>0</th>\n",
       "      <td>73ff9fcc02f0a99919906c942c2e1a1042cdcf98</td>\n",
       "      <td>464.8</td>\n",
       "      <td>443.5</td>\n",
       "      <td>431.8</td>\n",
       "      <td>420.0</td>\n",
       "      <td>425.573901</td>\n",
       "    </tr>\n",
       "    <tr>\n",
       "      <th>1</th>\n",
       "      <td>71a95f9f1b91a82c65ad94abbdf9f54e6066f968</td>\n",
       "      <td>391.1</td>\n",
       "      <td>491.1</td>\n",
       "      <td>548.0</td>\n",
       "      <td>580.0</td>\n",
       "      <td>445.427858</td>\n",
       "    </tr>\n",
       "    <tr>\n",
       "      <th>2</th>\n",
       "      <td>b38a03232f43b11c9d0788abaf060f7366053b6d</td>\n",
       "      <td>595.9</td>\n",
       "      <td>622.7</td>\n",
       "      <td>613.6</td>\n",
       "      <td>320.0</td>\n",
       "      <td>615.665851</td>\n",
       "    </tr>\n",
       "    <tr>\n",
       "      <th>4</th>\n",
       "      <td>715494628a50142ce8cb17191cfe6d0f3cae0934</td>\n",
       "      <td>592.9</td>\n",
       "      <td>492.6</td>\n",
       "      <td>571.4</td>\n",
       "      <td>320.0</td>\n",
       "      <td>524.024298</td>\n",
       "    </tr>\n",
       "    <tr>\n",
       "      <th>5</th>\n",
       "      <td>e656d6bad65c93fb2880f1eba5037008c8e75774</td>\n",
       "      <td>414.5</td>\n",
       "      <td>568.5</td>\n",
       "      <td>542.5</td>\n",
       "      <td>560.0</td>\n",
       "      <td>466.727150</td>\n",
       "    </tr>\n",
       "  </tbody>\n",
       "</table>\n",
       "</div>"
      ],
      "text/plain": [
       "                               NU_INSCRICAO  NU_NOTA_CN  NU_NOTA_CH  \\\n",
       "0  73ff9fcc02f0a99919906c942c2e1a1042cdcf98       464.8       443.5   \n",
       "1  71a95f9f1b91a82c65ad94abbdf9f54e6066f968       391.1       491.1   \n",
       "2  b38a03232f43b11c9d0788abaf060f7366053b6d       595.9       622.7   \n",
       "4  715494628a50142ce8cb17191cfe6d0f3cae0934       592.9       492.6   \n",
       "5  e656d6bad65c93fb2880f1eba5037008c8e75774       414.5       568.5   \n",
       "\n",
       "   NU_NOTA_LC  NU_NOTA_REDACAO  NU_NOTA_MT  \n",
       "0       431.8            420.0  425.573901  \n",
       "1       548.0            580.0  445.427858  \n",
       "2       613.6            320.0  615.665851  \n",
       "4       571.4            320.0  524.024298  \n",
       "5       542.5            560.0  466.727150  "
      ]
     },
     "execution_count": 51,
     "metadata": {},
     "output_type": "execute_result"
    }
   ],
   "source": [
    "dados['NU_NOTA_MT'] = notas_matematica\n",
    "dados.head()"
   ]
  },
  {
   "cell_type": "code",
   "execution_count": 52,
   "metadata": {},
   "outputs": [],
   "source": [
    "dados['NOTA_PROVA'] = ((2*dados['NU_NOTA_CN'])+(dados['NU_NOTA_CH'])+\n",
    "                       (1.5*dados['NU_NOTA_LC'])+(3*dados['NU_NOTA_REDACAO'])+\n",
    "                       (3*dados['NU_NOTA_MT']))/10.5"
   ]
  },
  {
   "cell_type": "code",
   "execution_count": 53,
   "metadata": {},
   "outputs": [
    {
     "data": {
      "text/html": [
       "<div>\n",
       "<style scoped>\n",
       "    .dataframe tbody tr th:only-of-type {\n",
       "        vertical-align: middle;\n",
       "    }\n",
       "\n",
       "    .dataframe tbody tr th {\n",
       "        vertical-align: top;\n",
       "    }\n",
       "\n",
       "    .dataframe thead th {\n",
       "        text-align: right;\n",
       "    }\n",
       "</style>\n",
       "<table border=\"1\" class=\"dataframe\">\n",
       "  <thead>\n",
       "    <tr style=\"text-align: right;\">\n",
       "      <th></th>\n",
       "      <th>NU_INSCRICAO</th>\n",
       "      <th>NU_NOTA_CN</th>\n",
       "      <th>NU_NOTA_CH</th>\n",
       "      <th>NU_NOTA_LC</th>\n",
       "      <th>NU_NOTA_REDACAO</th>\n",
       "      <th>NU_NOTA_MT</th>\n",
       "      <th>NOTA_PROVA</th>\n",
       "    </tr>\n",
       "  </thead>\n",
       "  <tbody>\n",
       "    <tr>\n",
       "      <th>0</th>\n",
       "      <td>73ff9fcc02f0a99919906c942c2e1a1042cdcf98</td>\n",
       "      <td>464.8</td>\n",
       "      <td>443.5</td>\n",
       "      <td>431.8</td>\n",
       "      <td>420.0</td>\n",
       "      <td>425.573901</td>\n",
       "      <td>434.049686</td>\n",
       "    </tr>\n",
       "    <tr>\n",
       "      <th>1</th>\n",
       "      <td>71a95f9f1b91a82c65ad94abbdf9f54e6066f968</td>\n",
       "      <td>391.1</td>\n",
       "      <td>491.1</td>\n",
       "      <td>548.0</td>\n",
       "      <td>580.0</td>\n",
       "      <td>445.427858</td>\n",
       "      <td>492.531769</td>\n",
       "    </tr>\n",
       "    <tr>\n",
       "      <th>2</th>\n",
       "      <td>b38a03232f43b11c9d0788abaf060f7366053b6d</td>\n",
       "      <td>595.9</td>\n",
       "      <td>622.7</td>\n",
       "      <td>613.6</td>\n",
       "      <td>320.0</td>\n",
       "      <td>615.665851</td>\n",
       "      <td>527.799767</td>\n",
       "    </tr>\n",
       "    <tr>\n",
       "      <th>4</th>\n",
       "      <td>715494628a50142ce8cb17191cfe6d0f3cae0934</td>\n",
       "      <td>592.9</td>\n",
       "      <td>492.6</td>\n",
       "      <td>571.4</td>\n",
       "      <td>320.0</td>\n",
       "      <td>524.024298</td>\n",
       "      <td>482.625990</td>\n",
       "    </tr>\n",
       "    <tr>\n",
       "      <th>5</th>\n",
       "      <td>e656d6bad65c93fb2880f1eba5037008c8e75774</td>\n",
       "      <td>414.5</td>\n",
       "      <td>568.5</td>\n",
       "      <td>542.5</td>\n",
       "      <td>560.0</td>\n",
       "      <td>466.727150</td>\n",
       "      <td>503.945853</td>\n",
       "    </tr>\n",
       "  </tbody>\n",
       "</table>\n",
       "</div>"
      ],
      "text/plain": [
       "                               NU_INSCRICAO  NU_NOTA_CN  NU_NOTA_CH  \\\n",
       "0  73ff9fcc02f0a99919906c942c2e1a1042cdcf98       464.8       443.5   \n",
       "1  71a95f9f1b91a82c65ad94abbdf9f54e6066f968       391.1       491.1   \n",
       "2  b38a03232f43b11c9d0788abaf060f7366053b6d       595.9       622.7   \n",
       "4  715494628a50142ce8cb17191cfe6d0f3cae0934       592.9       492.6   \n",
       "5  e656d6bad65c93fb2880f1eba5037008c8e75774       414.5       568.5   \n",
       "\n",
       "   NU_NOTA_LC  NU_NOTA_REDACAO  NU_NOTA_MT  NOTA_PROVA  \n",
       "0       431.8            420.0  425.573901  434.049686  \n",
       "1       548.0            580.0  445.427858  492.531769  \n",
       "2       613.6            320.0  615.665851  527.799767  \n",
       "4       571.4            320.0  524.024298  482.625990  \n",
       "5       542.5            560.0  466.727150  503.945853  "
      ]
     },
     "execution_count": 53,
     "metadata": {},
     "output_type": "execute_result"
    }
   ],
   "source": [
    "dados.head()"
   ]
  },
  {
   "cell_type": "code",
   "execution_count": 54,
   "metadata": {},
   "outputs": [],
   "source": [
    "output = dados[['NU_INSCRICAO','NU_NOTA_MT','NOTA_PROVA']].sort_values('NOTA_PROVA',ascending=False)"
   ]
  },
  {
   "cell_type": "code",
   "execution_count": 55,
   "metadata": {},
   "outputs": [
    {
     "data": {
      "text/html": [
       "<div>\n",
       "<style scoped>\n",
       "    .dataframe tbody tr th:only-of-type {\n",
       "        vertical-align: middle;\n",
       "    }\n",
       "\n",
       "    .dataframe tbody tr th {\n",
       "        vertical-align: top;\n",
       "    }\n",
       "\n",
       "    .dataframe thead th {\n",
       "        text-align: right;\n",
       "    }\n",
       "</style>\n",
       "<table border=\"1\" class=\"dataframe\">\n",
       "  <thead>\n",
       "    <tr style=\"text-align: right;\">\n",
       "      <th></th>\n",
       "      <th>NU_INSCRICAO</th>\n",
       "      <th>NU_NOTA_MT</th>\n",
       "    </tr>\n",
       "  </thead>\n",
       "  <tbody>\n",
       "    <tr>\n",
       "      <th>1773</th>\n",
       "      <td>c363bec718e45cd6bf8cba599cc3990d77f95c22</td>\n",
       "      <td>930.159564</td>\n",
       "    </tr>\n",
       "    <tr>\n",
       "      <th>3272</th>\n",
       "      <td>890014a4e63d88574c62197a24fd43ba5749db83</td>\n",
       "      <td>983.256499</td>\n",
       "    </tr>\n",
       "    <tr>\n",
       "      <th>3140</th>\n",
       "      <td>084d4e847b3809c6ee6622dd2e095156230f471b</td>\n",
       "      <td>830.831774</td>\n",
       "    </tr>\n",
       "    <tr>\n",
       "      <th>107</th>\n",
       "      <td>328ca19128d276eb4fbc309c54ec7f346c803d2f</td>\n",
       "      <td>779.249930</td>\n",
       "    </tr>\n",
       "    <tr>\n",
       "      <th>1837</th>\n",
       "      <td>e6375694613198f8db0720d7a8a04d8263116116</td>\n",
       "      <td>776.387499</td>\n",
       "    </tr>\n",
       "    <tr>\n",
       "      <th>2889</th>\n",
       "      <td>ef5f221a0c4ed1747aa949dba2f629e98f3a9438</td>\n",
       "      <td>869.116918</td>\n",
       "    </tr>\n",
       "    <tr>\n",
       "      <th>3910</th>\n",
       "      <td>6d4bee056abcea733d36060113427081daae72d1</td>\n",
       "      <td>861.970913</td>\n",
       "    </tr>\n",
       "    <tr>\n",
       "      <th>2110</th>\n",
       "      <td>34333ed47110024961ff7a95cc92900ab6fbdd33</td>\n",
       "      <td>784.231621</td>\n",
       "    </tr>\n",
       "    <tr>\n",
       "      <th>2998</th>\n",
       "      <td>e6c93e838e090b96a97db0a212e3d5ad7e67a8c4</td>\n",
       "      <td>765.589345</td>\n",
       "    </tr>\n",
       "    <tr>\n",
       "      <th>1197</th>\n",
       "      <td>34d6082a74330b3f5bc565fc573674afaa03f661</td>\n",
       "      <td>824.879989</td>\n",
       "    </tr>\n",
       "    <tr>\n",
       "      <th>2131</th>\n",
       "      <td>bb4ec0a4a66bea29328f27b05364af97a510cee0</td>\n",
       "      <td>828.400786</td>\n",
       "    </tr>\n",
       "    <tr>\n",
       "      <th>307</th>\n",
       "      <td>c8feec2a94d996d03534ce935dec7a034667f107</td>\n",
       "      <td>850.879222</td>\n",
       "    </tr>\n",
       "    <tr>\n",
       "      <th>2615</th>\n",
       "      <td>c759ad904d22197f1cf3b5ef9e41ee1609513cea</td>\n",
       "      <td>737.124912</td>\n",
       "    </tr>\n",
       "    <tr>\n",
       "      <th>1037</th>\n",
       "      <td>fe8333dd7a48c2c6da19394b93e6413b2d969588</td>\n",
       "      <td>708.962509</td>\n",
       "    </tr>\n",
       "    <tr>\n",
       "      <th>2863</th>\n",
       "      <td>1c6cbf69a4c9bb53f3ca9c5417965c00e9f4404c</td>\n",
       "      <td>706.866984</td>\n",
       "    </tr>\n",
       "    <tr>\n",
       "      <th>2975</th>\n",
       "      <td>47f77c8edf0812b4dc1a2279f060e79c1d40b791</td>\n",
       "      <td>749.945473</td>\n",
       "    </tr>\n",
       "    <tr>\n",
       "      <th>3283</th>\n",
       "      <td>d3b6eab5a3d56dc9823cf355b3ac1f647378fd4c</td>\n",
       "      <td>653.758672</td>\n",
       "    </tr>\n",
       "    <tr>\n",
       "      <th>3707</th>\n",
       "      <td>3b6f2590bb08848ae5b7cd08a41d1cc6a628c1f6</td>\n",
       "      <td>751.104113</td>\n",
       "    </tr>\n",
       "    <tr>\n",
       "      <th>2016</th>\n",
       "      <td>1bd11a80b10302f02376d8b755ca5a296eea87ac</td>\n",
       "      <td>814.709694</td>\n",
       "    </tr>\n",
       "    <tr>\n",
       "      <th>318</th>\n",
       "      <td>9027f65d4e576928ca59690c280050c53d66506a</td>\n",
       "      <td>683.641197</td>\n",
       "    </tr>\n",
       "  </tbody>\n",
       "</table>\n",
       "</div>"
      ],
      "text/plain": [
       "                                  NU_INSCRICAO  NU_NOTA_MT\n",
       "1773  c363bec718e45cd6bf8cba599cc3990d77f95c22  930.159564\n",
       "3272  890014a4e63d88574c62197a24fd43ba5749db83  983.256499\n",
       "3140  084d4e847b3809c6ee6622dd2e095156230f471b  830.831774\n",
       "107   328ca19128d276eb4fbc309c54ec7f346c803d2f  779.249930\n",
       "1837  e6375694613198f8db0720d7a8a04d8263116116  776.387499\n",
       "2889  ef5f221a0c4ed1747aa949dba2f629e98f3a9438  869.116918\n",
       "3910  6d4bee056abcea733d36060113427081daae72d1  861.970913\n",
       "2110  34333ed47110024961ff7a95cc92900ab6fbdd33  784.231621\n",
       "2998  e6c93e838e090b96a97db0a212e3d5ad7e67a8c4  765.589345\n",
       "1197  34d6082a74330b3f5bc565fc573674afaa03f661  824.879989\n",
       "2131  bb4ec0a4a66bea29328f27b05364af97a510cee0  828.400786\n",
       "307   c8feec2a94d996d03534ce935dec7a034667f107  850.879222\n",
       "2615  c759ad904d22197f1cf3b5ef9e41ee1609513cea  737.124912\n",
       "1037  fe8333dd7a48c2c6da19394b93e6413b2d969588  708.962509\n",
       "2863  1c6cbf69a4c9bb53f3ca9c5417965c00e9f4404c  706.866984\n",
       "2975  47f77c8edf0812b4dc1a2279f060e79c1d40b791  749.945473\n",
       "3283  d3b6eab5a3d56dc9823cf355b3ac1f647378fd4c  653.758672\n",
       "3707  3b6f2590bb08848ae5b7cd08a41d1cc6a628c1f6  751.104113\n",
       "2016  1bd11a80b10302f02376d8b755ca5a296eea87ac  814.709694\n",
       "318   9027f65d4e576928ca59690c280050c53d66506a  683.641197"
      ]
     },
     "execution_count": 55,
     "metadata": {},
     "output_type": "execute_result"
    }
   ],
   "source": [
    "output.drop(['NOTA_PROVA'], axis=1).head(20)"
   ]
  },
  {
   "cell_type": "code",
   "execution_count": 56,
   "metadata": {},
   "outputs": [],
   "source": [
    "output.to_csv('answer.csv', index=False)"
   ]
  },
  {
   "cell_type": "code",
   "execution_count": null,
   "metadata": {},
   "outputs": [],
   "source": []
  }
 ],
 "metadata": {
  "kernelspec": {
   "display_name": "Python 3",
   "language": "python",
   "name": "python3"
  },
  "language_info": {
   "codemirror_mode": {
    "name": "ipython",
    "version": 3
   },
   "file_extension": ".py",
   "mimetype": "text/x-python",
   "name": "python",
   "nbconvert_exporter": "python",
   "pygments_lexer": "ipython3",
   "version": "3.6.7"
  }
 },
 "nbformat": 4,
 "nbformat_minor": 2
}
