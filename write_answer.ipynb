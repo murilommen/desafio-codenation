{
 "cells": [
  {
   "cell_type": "code",
   "execution_count": 105,
   "metadata": {},
   "outputs": [],
   "source": [
    "import pandas as pd \n",
    "import numpy as np\n",
    "import seaborn as sns\n",
    "import matplotlib.pyplot as plt"
   ]
  },
  {
   "cell_type": "code",
   "execution_count": 106,
   "metadata": {},
   "outputs": [],
   "source": [
    "df = pd.read_csv('./Desktop/Data Science/Desafio Codenation/train.csv')"
   ]
  },
  {
   "cell_type": "code",
   "execution_count": 107,
   "metadata": {},
   "outputs": [
    {
     "data": {
      "text/html": [
       "<div>\n",
       "<style scoped>\n",
       "    .dataframe tbody tr th:only-of-type {\n",
       "        vertical-align: middle;\n",
       "    }\n",
       "\n",
       "    .dataframe tbody tr th {\n",
       "        vertical-align: top;\n",
       "    }\n",
       "\n",
       "    .dataframe thead th {\n",
       "        text-align: right;\n",
       "    }\n",
       "</style>\n",
       "<table border=\"1\" class=\"dataframe\">\n",
       "  <thead>\n",
       "    <tr style=\"text-align: right;\">\n",
       "      <th></th>\n",
       "      <th>NU_NOTA_CN</th>\n",
       "      <th>NU_NOTA_CH</th>\n",
       "      <th>NU_NOTA_LC</th>\n",
       "      <th>NU_NOTA_REDACAO</th>\n",
       "    </tr>\n",
       "  </thead>\n",
       "  <tbody>\n",
       "    <tr>\n",
       "      <th>0</th>\n",
       "      <td>436.3</td>\n",
       "      <td>495.4</td>\n",
       "      <td>581.2</td>\n",
       "      <td>520.0</td>\n",
       "    </tr>\n",
       "    <tr>\n",
       "      <th>1</th>\n",
       "      <td>474.5</td>\n",
       "      <td>544.1</td>\n",
       "      <td>599.0</td>\n",
       "      <td>580.0</td>\n",
       "    </tr>\n",
       "    <tr>\n",
       "      <th>2</th>\n",
       "      <td>NaN</td>\n",
       "      <td>NaN</td>\n",
       "      <td>NaN</td>\n",
       "      <td>NaN</td>\n",
       "    </tr>\n",
       "    <tr>\n",
       "      <th>3</th>\n",
       "      <td>NaN</td>\n",
       "      <td>NaN</td>\n",
       "      <td>NaN</td>\n",
       "      <td>NaN</td>\n",
       "    </tr>\n",
       "    <tr>\n",
       "      <th>4</th>\n",
       "      <td>NaN</td>\n",
       "      <td>NaN</td>\n",
       "      <td>NaN</td>\n",
       "      <td>NaN</td>\n",
       "    </tr>\n",
       "  </tbody>\n",
       "</table>\n",
       "</div>"
      ],
      "text/plain": [
       "   NU_NOTA_CN  NU_NOTA_CH  NU_NOTA_LC  NU_NOTA_REDACAO\n",
       "0       436.3       495.4       581.2            520.0\n",
       "1       474.5       544.1       599.0            580.0\n",
       "2         NaN         NaN         NaN              NaN\n",
       "3         NaN         NaN         NaN              NaN\n",
       "4         NaN         NaN         NaN              NaN"
      ]
     },
     "execution_count": 107,
     "metadata": {},
     "output_type": "execute_result"
    }
   ],
   "source": [
    "x_raw = df[['NU_NOTA_CN', 'NU_NOTA_CH', 'NU_NOTA_LC','NU_NOTA_REDACAO']]\n",
    "x_raw.head()"
   ]
  },
  {
   "cell_type": "code",
   "execution_count": 108,
   "metadata": {},
   "outputs": [
    {
     "data": {
      "text/plain": [
       "0    399.4\n",
       "1    459.8\n",
       "2      NaN\n",
       "3      NaN\n",
       "4      NaN\n",
       "Name: NU_NOTA_MT, dtype: float64"
      ]
     },
     "execution_count": 108,
     "metadata": {},
     "output_type": "execute_result"
    }
   ],
   "source": [
    "y_raw = df['NU_NOTA_MT']\n",
    "y_raw.head()"
   ]
  },
  {
   "cell_type": "code",
   "execution_count": 109,
   "metadata": {},
   "outputs": [],
   "source": [
    "# juntar matrizes e tirar NaNs e zeros\n",
    "df = pd.concat([x_raw,y_raw], join='outer', axis=1).dropna(axis=0)\n",
    "df = df[(df != 0).all(1)]"
   ]
  },
  {
   "cell_type": "code",
   "execution_count": 110,
   "metadata": {},
   "outputs": [],
   "source": [
    "X = df[['NU_NOTA_CN', 'NU_NOTA_CH', 'NU_NOTA_LC','NU_NOTA_REDACAO']]\n",
    "Y = df['NU_NOTA_MT']"
   ]
  },
  {
   "cell_type": "code",
   "execution_count": 111,
   "metadata": {},
   "outputs": [
    {
     "name": "stdout",
     "output_type": "stream",
     "text": [
      "0\n"
     ]
    }
   ],
   "source": [
    "#checar se existem strings\n",
    "check = Y.eq(str).all()\n",
    "print(check.sum())"
   ]
  },
  {
   "cell_type": "code",
   "execution_count": 112,
   "metadata": {},
   "outputs": [
    {
     "name": "stdout",
     "output_type": "stream",
     "text": [
      "0\n"
     ]
    }
   ],
   "source": [
    "#checar se existem NaNs\n",
    "check = Y.isna().all()\n",
    "print(check.sum())"
   ]
  },
  {
   "cell_type": "code",
   "execution_count": 136,
   "metadata": {},
   "outputs": [
    {
     "data": {
      "text/html": [
       "<div>\n",
       "<style scoped>\n",
       "    .dataframe tbody tr th:only-of-type {\n",
       "        vertical-align: middle;\n",
       "    }\n",
       "\n",
       "    .dataframe tbody tr th {\n",
       "        vertical-align: top;\n",
       "    }\n",
       "\n",
       "    .dataframe thead th {\n",
       "        text-align: right;\n",
       "    }\n",
       "</style>\n",
       "<table border=\"1\" class=\"dataframe\">\n",
       "  <thead>\n",
       "    <tr style=\"text-align: right;\">\n",
       "      <th></th>\n",
       "      <th>NU_NOTA_CN</th>\n",
       "      <th>NU_NOTA_CH</th>\n",
       "      <th>NU_NOTA_LC</th>\n",
       "      <th>NU_NOTA_REDACAO</th>\n",
       "    </tr>\n",
       "  </thead>\n",
       "  <tbody>\n",
       "    <tr>\n",
       "      <th>11409</th>\n",
       "      <td>476.6</td>\n",
       "      <td>574.4</td>\n",
       "      <td>554.8</td>\n",
       "      <td>440.0</td>\n",
       "    </tr>\n",
       "    <tr>\n",
       "      <th>13442</th>\n",
       "      <td>477.5</td>\n",
       "      <td>478.5</td>\n",
       "      <td>493.3</td>\n",
       "      <td>400.0</td>\n",
       "    </tr>\n",
       "    <tr>\n",
       "      <th>6832</th>\n",
       "      <td>428.3</td>\n",
       "      <td>505.4</td>\n",
       "      <td>551.7</td>\n",
       "      <td>500.0</td>\n",
       "    </tr>\n",
       "    <tr>\n",
       "      <th>5705</th>\n",
       "      <td>450.4</td>\n",
       "      <td>564.6</td>\n",
       "      <td>567.4</td>\n",
       "      <td>640.0</td>\n",
       "    </tr>\n",
       "    <tr>\n",
       "      <th>1896</th>\n",
       "      <td>442.0</td>\n",
       "      <td>472.3</td>\n",
       "      <td>395.5</td>\n",
       "      <td>640.0</td>\n",
       "    </tr>\n",
       "  </tbody>\n",
       "</table>\n",
       "</div>"
      ],
      "text/plain": [
       "       NU_NOTA_CN  NU_NOTA_CH  NU_NOTA_LC  NU_NOTA_REDACAO\n",
       "11409       476.6       574.4       554.8            440.0\n",
       "13442       477.5       478.5       493.3            400.0\n",
       "6832        428.3       505.4       551.7            500.0\n",
       "5705        450.4       564.6       567.4            640.0\n",
       "1896        442.0       472.3       395.5            640.0"
      ]
     },
     "execution_count": 136,
     "metadata": {},
     "output_type": "execute_result"
    }
   ],
   "source": [
    "from sklearn.model_selection import train_test_split\n",
    "X_train, X_test, Y_train, Y_test = train_test_split(X,Y,test_size=0.15,random_state=None)\n",
    "X_train.head()"
   ]
  },
  {
   "cell_type": "code",
   "execution_count": 114,
   "metadata": {},
   "outputs": [
    {
     "data": {
      "text/plain": [
       "LinearRegression(copy_X=True, fit_intercept=True, n_jobs=None,\n",
       "         normalize=False)"
      ]
     },
     "execution_count": 114,
     "metadata": {},
     "output_type": "execute_result"
    }
   ],
   "source": [
    "from sklearn.linear_model import LinearRegression\n",
    "modelo = LinearRegression()\n",
    "modelo.fit(X_train,Y_train)"
   ]
  },
  {
   "cell_type": "code",
   "execution_count": 115,
   "metadata": {},
   "outputs": [],
   "source": [
    "y_previsto = modelo.predict(X_test)"
   ]
  },
  {
   "cell_type": "code",
   "execution_count": 116,
   "metadata": {},
   "outputs": [
    {
     "name": "stdout",
     "output_type": "stream",
     "text": [
      "R²: 0.413\n"
     ]
    }
   ],
   "source": [
    "from sklearn.metrics import r2_score\n",
    "print('R²: %s' % r2_score(Y_test, y_previsto).round(3))"
   ]
  },
  {
   "cell_type": "code",
   "execution_count": 128,
   "metadata": {},
   "outputs": [
    {
     "data": {
      "text/plain": [
       "LinearRegression(copy_X=True, fit_intercept=True, n_jobs=None,\n",
       "         normalize=False)"
      ]
     },
     "execution_count": 128,
     "metadata": {},
     "output_type": "execute_result"
    }
   ],
   "source": [
    "#tentativa com polinomio\n",
    "from sklearn.preprocessing import PolynomialFeatures\n",
    "poly_reg = PolynomialFeatures(degree = 3)\n",
    "\n",
    "X_poly = poly_reg.fit_transform(X_train)\n",
    "\n",
    "poly_reg.fit(X_poly, Y_train)\n",
    "modelo.fit(X_poly, Y_train)"
   ]
  },
  {
   "cell_type": "code",
   "execution_count": 129,
   "metadata": {},
   "outputs": [
    {
     "data": {
      "text/plain": [
       "array([[1.00000000e+00, 5.00900000e+02, 3.89000000e+02, ...,\n",
       "        7.05891800e+07, 6.22364000e+07, 5.48720000e+07],\n",
       "       [1.00000000e+00, 5.30500000e+02, 5.85900000e+02, ...,\n",
       "        1.56764938e+08, 1.57114080e+08, 1.57464000e+08],\n",
       "       [1.00000000e+00, 5.09600000e+02, 5.97700000e+02, ...,\n",
       "        2.68263475e+08, 3.16431360e+08, 3.73248000e+08],\n",
       "       ...,\n",
       "       [1.00000000e+00, 5.17800000e+02, 6.01100000e+02, ...,\n",
       "        1.95748781e+08, 1.47133440e+08, 1.10592000e+08],\n",
       "       [1.00000000e+00, 4.49800000e+02, 5.69700000e+02, ...,\n",
       "        1.16060433e+08, 1.06286680e+08, 9.73360000e+07],\n",
       "       [1.00000000e+00, 4.40200000e+02, 4.68800000e+02, ...,\n",
       "        1.28004582e+08, 1.49932160e+08, 1.75616000e+08]])"
      ]
     },
     "execution_count": 129,
     "metadata": {},
     "output_type": "execute_result"
    }
   ],
   "source": [
    "X_poly2 = poly_reg.fit_transform(X_test)\n",
    "X_poly2"
   ]
  },
  {
   "cell_type": "code",
   "execution_count": 130,
   "metadata": {},
   "outputs": [],
   "source": [
    "y_previsto2 = modelo.predict(X_poly2)\n",
    "y_previsto2 = pd.DataFrame(y_previsto2)"
   ]
  },
  {
   "cell_type": "code",
   "execution_count": 120,
   "metadata": {},
   "outputs": [
    {
     "name": "stdout",
     "output_type": "stream",
     "text": [
      "R²: 0.461\n"
     ]
    }
   ],
   "source": [
    "print('R²: %s' % r2_score(Y_test, y_previsto2).round(3))"
   ]
  },
  {
   "cell_type": "markdown",
   "metadata": {},
   "source": [
    "# Treinar com toda a planilha"
   ]
  },
  {
   "cell_type": "code",
   "execution_count": 141,
   "metadata": {},
   "outputs": [
    {
     "data": {
      "text/plain": [
       "sklearn.linear_model.base.LinearRegression"
      ]
     },
     "execution_count": 141,
     "metadata": {},
     "output_type": "execute_result"
    }
   ],
   "source": [
    "poly_reg = PolynomialFeatures(degree = 3)\n",
    "\n",
    "X_poly = poly_reg.fit_transform(X)\n",
    "\n",
    "poly_reg.fit(X_poly, Y)\n",
    "modelo.fit(X_poly, Y)\n",
    "type(modelo)"
   ]
  },
  {
   "cell_type": "code",
   "execution_count": 142,
   "metadata": {},
   "outputs": [],
   "source": [
    "df2 = pd.read_csv('./Desktop/Data Science/Desafio Codenation/test.csv')"
   ]
  },
  {
   "cell_type": "code",
   "execution_count": 143,
   "metadata": {},
   "outputs": [
    {
     "data": {
      "text/html": [
       "<div>\n",
       "<style scoped>\n",
       "    .dataframe tbody tr th:only-of-type {\n",
       "        vertical-align: middle;\n",
       "    }\n",
       "\n",
       "    .dataframe tbody tr th {\n",
       "        vertical-align: top;\n",
       "    }\n",
       "\n",
       "    .dataframe thead th {\n",
       "        text-align: right;\n",
       "    }\n",
       "</style>\n",
       "<table border=\"1\" class=\"dataframe\">\n",
       "  <thead>\n",
       "    <tr style=\"text-align: right;\">\n",
       "      <th></th>\n",
       "      <th>NU_NOTA_CN</th>\n",
       "      <th>NU_NOTA_CH</th>\n",
       "      <th>NU_NOTA_LC</th>\n",
       "      <th>NU_NOTA_REDACAO</th>\n",
       "    </tr>\n",
       "  </thead>\n",
       "  <tbody>\n",
       "    <tr>\n",
       "      <th>0</th>\n",
       "      <td>464.8</td>\n",
       "      <td>443.5</td>\n",
       "      <td>431.8</td>\n",
       "      <td>420.0</td>\n",
       "    </tr>\n",
       "    <tr>\n",
       "      <th>1</th>\n",
       "      <td>391.1</td>\n",
       "      <td>491.1</td>\n",
       "      <td>548.0</td>\n",
       "      <td>580.0</td>\n",
       "    </tr>\n",
       "    <tr>\n",
       "      <th>2</th>\n",
       "      <td>595.9</td>\n",
       "      <td>622.7</td>\n",
       "      <td>613.6</td>\n",
       "      <td>320.0</td>\n",
       "    </tr>\n",
       "    <tr>\n",
       "      <th>4</th>\n",
       "      <td>592.9</td>\n",
       "      <td>492.6</td>\n",
       "      <td>571.4</td>\n",
       "      <td>320.0</td>\n",
       "    </tr>\n",
       "    <tr>\n",
       "      <th>5</th>\n",
       "      <td>414.5</td>\n",
       "      <td>568.5</td>\n",
       "      <td>542.5</td>\n",
       "      <td>560.0</td>\n",
       "    </tr>\n",
       "  </tbody>\n",
       "</table>\n",
       "</div>"
      ],
      "text/plain": [
       "   NU_NOTA_CN  NU_NOTA_CH  NU_NOTA_LC  NU_NOTA_REDACAO\n",
       "0       464.8       443.5       431.8            420.0\n",
       "1       391.1       491.1       548.0            580.0\n",
       "2       595.9       622.7       613.6            320.0\n",
       "4       592.9       492.6       571.4            320.0\n",
       "5       414.5       568.5       542.5            560.0"
      ]
     },
     "execution_count": 143,
     "metadata": {},
     "output_type": "execute_result"
    }
   ],
   "source": [
    "x2 = df2[['NU_NOTA_CN', 'NU_NOTA_CH', 'NU_NOTA_LC','NU_NOTA_REDACAO']].dropna(thresh=3)\n",
    "x2.head()"
   ]
  },
  {
   "cell_type": "code",
   "execution_count": 144,
   "metadata": {},
   "outputs": [
    {
     "data": {
      "text/plain": [
       "array([[1.00000000e+00, 4.64800000e+02, 4.43500000e+02, ...,\n",
       "        7.83095208e+07, 7.61695200e+07, 7.40880000e+07],\n",
       "       [1.00000000e+00, 3.91100000e+02, 4.91100000e+02, ...,\n",
       "        1.74176320e+08, 1.84347200e+08, 1.95112000e+08],\n",
       "       [1.00000000e+00, 5.95900000e+02, 6.22700000e+02, ...,\n",
       "        1.20481587e+08, 6.28326400e+07, 3.27680000e+07],\n",
       "       ...,\n",
       "       [1.00000000e+00, 4.27600000e+02, 5.79700000e+02, ...,\n",
       "        1.15406309e+08, 1.27385440e+08, 1.40608000e+08],\n",
       "       [1.00000000e+00, 6.39200000e+02, 6.43800000e+02, ...,\n",
       "        2.34178566e+08, 2.47767040e+08, 2.62144000e+08],\n",
       "       [1.00000000e+00, 4.27100000e+02, 4.67900000e+02, ...,\n",
       "        1.51744341e+08, 1.46070080e+08, 1.40608000e+08]])"
      ]
     },
     "execution_count": 144,
     "metadata": {},
     "output_type": "execute_result"
    }
   ],
   "source": [
    "X_poly3 = poly_reg.fit_transform(x2)\n",
    "poly_reg.fit(X_poly3)\n",
    "X_poly3"
   ]
  },
  {
   "cell_type": "code",
   "execution_count": 159,
   "metadata": {},
   "outputs": [
    {
     "data": {
      "text/plain": [
       "3360"
      ]
     },
     "execution_count": 159,
     "metadata": {},
     "output_type": "execute_result"
    }
   ],
   "source": [
    "notas_matematica = modelo.predict(X_poly3)\n",
    "len(notas_matematica)"
   ]
  },
  {
   "cell_type": "code",
   "execution_count": 160,
   "metadata": {},
   "outputs": [
    {
     "data": {
      "text/plain": [
       "3360"
      ]
     },
     "execution_count": 160,
     "metadata": {},
     "output_type": "execute_result"
    }
   ],
   "source": [
    "dados = df2[['NU_INSCRICAO','NU_NOTA_CN', 'NU_NOTA_CH', 'NU_NOTA_LC','NU_NOTA_REDACAO']].dropna()\n",
    "len(dados)"
   ]
  },
  {
   "cell_type": "code",
   "execution_count": 161,
   "metadata": {},
   "outputs": [
    {
     "data": {
      "text/html": [
       "<div>\n",
       "<style scoped>\n",
       "    .dataframe tbody tr th:only-of-type {\n",
       "        vertical-align: middle;\n",
       "    }\n",
       "\n",
       "    .dataframe tbody tr th {\n",
       "        vertical-align: top;\n",
       "    }\n",
       "\n",
       "    .dataframe thead th {\n",
       "        text-align: right;\n",
       "    }\n",
       "</style>\n",
       "<table border=\"1\" class=\"dataframe\">\n",
       "  <thead>\n",
       "    <tr style=\"text-align: right;\">\n",
       "      <th></th>\n",
       "      <th>NU_INSCRICAO</th>\n",
       "      <th>NU_NOTA_CN</th>\n",
       "      <th>NU_NOTA_CH</th>\n",
       "      <th>NU_NOTA_LC</th>\n",
       "      <th>NU_NOTA_REDACAO</th>\n",
       "      <th>NU_NOTA_MT</th>\n",
       "    </tr>\n",
       "  </thead>\n",
       "  <tbody>\n",
       "    <tr>\n",
       "      <th>0</th>\n",
       "      <td>73ff9fcc02f0a99919906c942c2e1a1042cdcf98</td>\n",
       "      <td>464.8</td>\n",
       "      <td>443.5</td>\n",
       "      <td>431.8</td>\n",
       "      <td>420.0</td>\n",
       "      <td>421.639513</td>\n",
       "    </tr>\n",
       "    <tr>\n",
       "      <th>1</th>\n",
       "      <td>71a95f9f1b91a82c65ad94abbdf9f54e6066f968</td>\n",
       "      <td>391.1</td>\n",
       "      <td>491.1</td>\n",
       "      <td>548.0</td>\n",
       "      <td>580.0</td>\n",
       "      <td>446.882701</td>\n",
       "    </tr>\n",
       "    <tr>\n",
       "      <th>2</th>\n",
       "      <td>b38a03232f43b11c9d0788abaf060f7366053b6d</td>\n",
       "      <td>595.9</td>\n",
       "      <td>622.7</td>\n",
       "      <td>613.6</td>\n",
       "      <td>320.0</td>\n",
       "      <td>602.777204</td>\n",
       "    </tr>\n",
       "    <tr>\n",
       "      <th>4</th>\n",
       "      <td>715494628a50142ce8cb17191cfe6d0f3cae0934</td>\n",
       "      <td>592.9</td>\n",
       "      <td>492.6</td>\n",
       "      <td>571.4</td>\n",
       "      <td>320.0</td>\n",
       "      <td>550.068202</td>\n",
       "    </tr>\n",
       "    <tr>\n",
       "      <th>5</th>\n",
       "      <td>e656d6bad65c93fb2880f1eba5037008c8e75774</td>\n",
       "      <td>414.5</td>\n",
       "      <td>568.5</td>\n",
       "      <td>542.5</td>\n",
       "      <td>560.0</td>\n",
       "      <td>466.881932</td>\n",
       "    </tr>\n",
       "  </tbody>\n",
       "</table>\n",
       "</div>"
      ],
      "text/plain": [
       "                               NU_INSCRICAO  NU_NOTA_CN  NU_NOTA_CH  \\\n",
       "0  73ff9fcc02f0a99919906c942c2e1a1042cdcf98       464.8       443.5   \n",
       "1  71a95f9f1b91a82c65ad94abbdf9f54e6066f968       391.1       491.1   \n",
       "2  b38a03232f43b11c9d0788abaf060f7366053b6d       595.9       622.7   \n",
       "4  715494628a50142ce8cb17191cfe6d0f3cae0934       592.9       492.6   \n",
       "5  e656d6bad65c93fb2880f1eba5037008c8e75774       414.5       568.5   \n",
       "\n",
       "   NU_NOTA_LC  NU_NOTA_REDACAO  NU_NOTA_MT  \n",
       "0       431.8            420.0  421.639513  \n",
       "1       548.0            580.0  446.882701  \n",
       "2       613.6            320.0  602.777204  \n",
       "4       571.4            320.0  550.068202  \n",
       "5       542.5            560.0  466.881932  "
      ]
     },
     "execution_count": 161,
     "metadata": {},
     "output_type": "execute_result"
    }
   ],
   "source": [
    "dados['NU_NOTA_MT'] = notas_matematica\n",
    "dados.head()"
   ]
  },
  {
   "cell_type": "code",
   "execution_count": 164,
   "metadata": {},
   "outputs": [],
   "source": [
    "dados['NOTA_PROVA'] = ((2*dados['NU_NOTA_CN'])+(dados['NU_NOTA_CH'])+\n",
    "                       (1.5*dados['NU_NOTA_LC'])+(3*dados['NU_NOTA_REDACAO'])+\n",
    "                       (3*dados['NU_NOTA_MT']))/10.5"
   ]
  },
  {
   "cell_type": "code",
   "execution_count": 165,
   "metadata": {},
   "outputs": [
    {
     "data": {
      "text/html": [
       "<div>\n",
       "<style scoped>\n",
       "    .dataframe tbody tr th:only-of-type {\n",
       "        vertical-align: middle;\n",
       "    }\n",
       "\n",
       "    .dataframe tbody tr th {\n",
       "        vertical-align: top;\n",
       "    }\n",
       "\n",
       "    .dataframe thead th {\n",
       "        text-align: right;\n",
       "    }\n",
       "</style>\n",
       "<table border=\"1\" class=\"dataframe\">\n",
       "  <thead>\n",
       "    <tr style=\"text-align: right;\">\n",
       "      <th></th>\n",
       "      <th>NU_INSCRICAO</th>\n",
       "      <th>NU_NOTA_CN</th>\n",
       "      <th>NU_NOTA_CH</th>\n",
       "      <th>NU_NOTA_LC</th>\n",
       "      <th>NU_NOTA_REDACAO</th>\n",
       "      <th>NU_NOTA_MT</th>\n",
       "      <th>NOTA_PROVA</th>\n",
       "    </tr>\n",
       "  </thead>\n",
       "  <tbody>\n",
       "    <tr>\n",
       "      <th>0</th>\n",
       "      <td>73ff9fcc02f0a99919906c942c2e1a1042cdcf98</td>\n",
       "      <td>464.8</td>\n",
       "      <td>443.5</td>\n",
       "      <td>431.8</td>\n",
       "      <td>420.0</td>\n",
       "      <td>421.639513</td>\n",
       "      <td>432.925575</td>\n",
       "    </tr>\n",
       "    <tr>\n",
       "      <th>1</th>\n",
       "      <td>71a95f9f1b91a82c65ad94abbdf9f54e6066f968</td>\n",
       "      <td>391.1</td>\n",
       "      <td>491.1</td>\n",
       "      <td>548.0</td>\n",
       "      <td>580.0</td>\n",
       "      <td>446.882701</td>\n",
       "      <td>492.947438</td>\n",
       "    </tr>\n",
       "    <tr>\n",
       "      <th>2</th>\n",
       "      <td>b38a03232f43b11c9d0788abaf060f7366053b6d</td>\n",
       "      <td>595.9</td>\n",
       "      <td>622.7</td>\n",
       "      <td>613.6</td>\n",
       "      <td>320.0</td>\n",
       "      <td>602.777204</td>\n",
       "      <td>524.117296</td>\n",
       "    </tr>\n",
       "    <tr>\n",
       "      <th>4</th>\n",
       "      <td>715494628a50142ce8cb17191cfe6d0f3cae0934</td>\n",
       "      <td>592.9</td>\n",
       "      <td>492.6</td>\n",
       "      <td>571.4</td>\n",
       "      <td>320.0</td>\n",
       "      <td>550.068202</td>\n",
       "      <td>490.067105</td>\n",
       "    </tr>\n",
       "    <tr>\n",
       "      <th>5</th>\n",
       "      <td>e656d6bad65c93fb2880f1eba5037008c8e75774</td>\n",
       "      <td>414.5</td>\n",
       "      <td>568.5</td>\n",
       "      <td>542.5</td>\n",
       "      <td>560.0</td>\n",
       "      <td>466.881932</td>\n",
       "      <td>503.990076</td>\n",
       "    </tr>\n",
       "  </tbody>\n",
       "</table>\n",
       "</div>"
      ],
      "text/plain": [
       "                               NU_INSCRICAO  NU_NOTA_CN  NU_NOTA_CH  \\\n",
       "0  73ff9fcc02f0a99919906c942c2e1a1042cdcf98       464.8       443.5   \n",
       "1  71a95f9f1b91a82c65ad94abbdf9f54e6066f968       391.1       491.1   \n",
       "2  b38a03232f43b11c9d0788abaf060f7366053b6d       595.9       622.7   \n",
       "4  715494628a50142ce8cb17191cfe6d0f3cae0934       592.9       492.6   \n",
       "5  e656d6bad65c93fb2880f1eba5037008c8e75774       414.5       568.5   \n",
       "\n",
       "   NU_NOTA_LC  NU_NOTA_REDACAO  NU_NOTA_MT  NOTA_PROVA  \n",
       "0       431.8            420.0  421.639513  432.925575  \n",
       "1       548.0            580.0  446.882701  492.947438  \n",
       "2       613.6            320.0  602.777204  524.117296  \n",
       "4       571.4            320.0  550.068202  490.067105  \n",
       "5       542.5            560.0  466.881932  503.990076  "
      ]
     },
     "execution_count": 165,
     "metadata": {},
     "output_type": "execute_result"
    }
   ],
   "source": [
    "dados.head()"
   ]
  },
  {
   "cell_type": "code",
   "execution_count": 174,
   "metadata": {},
   "outputs": [],
   "source": [
    "output = dados[['NU_INSCRICAO','NU_NOTA_MT','NOTA_PROVA']].sort_values('NOTA_PROVA',ascending=False)"
   ]
  },
  {
   "cell_type": "code",
   "execution_count": 177,
   "metadata": {},
   "outputs": [
    {
     "data": {
      "text/html": [
       "<div>\n",
       "<style scoped>\n",
       "    .dataframe tbody tr th:only-of-type {\n",
       "        vertical-align: middle;\n",
       "    }\n",
       "\n",
       "    .dataframe tbody tr th {\n",
       "        vertical-align: top;\n",
       "    }\n",
       "\n",
       "    .dataframe thead th {\n",
       "        text-align: right;\n",
       "    }\n",
       "</style>\n",
       "<table border=\"1\" class=\"dataframe\">\n",
       "  <thead>\n",
       "    <tr style=\"text-align: right;\">\n",
       "      <th></th>\n",
       "      <th>NU_INSCRICAO</th>\n",
       "      <th>NU_NOTA_MT</th>\n",
       "    </tr>\n",
       "  </thead>\n",
       "  <tbody>\n",
       "    <tr>\n",
       "      <th>1773</th>\n",
       "      <td>c363bec718e45cd6bf8cba599cc3990d77f95c22</td>\n",
       "      <td>865.608895</td>\n",
       "    </tr>\n",
       "    <tr>\n",
       "      <th>3140</th>\n",
       "      <td>084d4e847b3809c6ee6622dd2e095156230f471b</td>\n",
       "      <td>811.046136</td>\n",
       "    </tr>\n",
       "    <tr>\n",
       "      <th>3272</th>\n",
       "      <td>890014a4e63d88574c62197a24fd43ba5749db83</td>\n",
       "      <td>933.193674</td>\n",
       "    </tr>\n",
       "    <tr>\n",
       "      <th>107</th>\n",
       "      <td>328ca19128d276eb4fbc309c54ec7f346c803d2f</td>\n",
       "      <td>749.462774</td>\n",
       "    </tr>\n",
       "    <tr>\n",
       "      <th>1837</th>\n",
       "      <td>e6375694613198f8db0720d7a8a04d8263116116</td>\n",
       "      <td>764.768087</td>\n",
       "    </tr>\n",
       "    <tr>\n",
       "      <th>3910</th>\n",
       "      <td>6d4bee056abcea733d36060113427081daae72d1</td>\n",
       "      <td>849.664731</td>\n",
       "    </tr>\n",
       "    <tr>\n",
       "      <th>2889</th>\n",
       "      <td>ef5f221a0c4ed1747aa949dba2f629e98f3a9438</td>\n",
       "      <td>829.307623</td>\n",
       "    </tr>\n",
       "    <tr>\n",
       "      <th>2110</th>\n",
       "      <td>34333ed47110024961ff7a95cc92900ab6fbdd33</td>\n",
       "      <td>764.293013</td>\n",
       "    </tr>\n",
       "    <tr>\n",
       "      <th>2998</th>\n",
       "      <td>e6c93e838e090b96a97db0a212e3d5ad7e67a8c4</td>\n",
       "      <td>753.173844</td>\n",
       "    </tr>\n",
       "    <tr>\n",
       "      <th>1197</th>\n",
       "      <td>34d6082a74330b3f5bc565fc573674afaa03f661</td>\n",
       "      <td>811.528055</td>\n",
       "    </tr>\n",
       "    <tr>\n",
       "      <th>2131</th>\n",
       "      <td>bb4ec0a4a66bea29328f27b05364af97a510cee0</td>\n",
       "      <td>811.871648</td>\n",
       "    </tr>\n",
       "    <tr>\n",
       "      <th>307</th>\n",
       "      <td>c8feec2a94d996d03534ce935dec7a034667f107</td>\n",
       "      <td>819.009687</td>\n",
       "    </tr>\n",
       "    <tr>\n",
       "      <th>1037</th>\n",
       "      <td>fe8333dd7a48c2c6da19394b93e6413b2d969588</td>\n",
       "      <td>711.435591</td>\n",
       "    </tr>\n",
       "    <tr>\n",
       "      <th>2615</th>\n",
       "      <td>c759ad904d22197f1cf3b5ef9e41ee1609513cea</td>\n",
       "      <td>715.723726</td>\n",
       "    </tr>\n",
       "    <tr>\n",
       "      <th>2863</th>\n",
       "      <td>1c6cbf69a4c9bb53f3ca9c5417965c00e9f4404c</td>\n",
       "      <td>699.955054</td>\n",
       "    </tr>\n",
       "    <tr>\n",
       "      <th>2975</th>\n",
       "      <td>47f77c8edf0812b4dc1a2279f060e79c1d40b791</td>\n",
       "      <td>754.636493</td>\n",
       "    </tr>\n",
       "    <tr>\n",
       "      <th>3707</th>\n",
       "      <td>3b6f2590bb08848ae5b7cd08a41d1cc6a628c1f6</td>\n",
       "      <td>745.648422</td>\n",
       "    </tr>\n",
       "    <tr>\n",
       "      <th>3283</th>\n",
       "      <td>d3b6eab5a3d56dc9823cf355b3ac1f647378fd4c</td>\n",
       "      <td>637.209050</td>\n",
       "    </tr>\n",
       "    <tr>\n",
       "      <th>3882</th>\n",
       "      <td>2abaa7d3759d277dd920da6e8099939c1f794be0</td>\n",
       "      <td>705.766425</td>\n",
       "    </tr>\n",
       "    <tr>\n",
       "      <th>3540</th>\n",
       "      <td>687448d804c924b64fb61ba94b1846007d6ab904</td>\n",
       "      <td>660.782398</td>\n",
       "    </tr>\n",
       "  </tbody>\n",
       "</table>\n",
       "</div>"
      ],
      "text/plain": [
       "                                  NU_INSCRICAO  NU_NOTA_MT\n",
       "1773  c363bec718e45cd6bf8cba599cc3990d77f95c22  865.608895\n",
       "3140  084d4e847b3809c6ee6622dd2e095156230f471b  811.046136\n",
       "3272  890014a4e63d88574c62197a24fd43ba5749db83  933.193674\n",
       "107   328ca19128d276eb4fbc309c54ec7f346c803d2f  749.462774\n",
       "1837  e6375694613198f8db0720d7a8a04d8263116116  764.768087\n",
       "3910  6d4bee056abcea733d36060113427081daae72d1  849.664731\n",
       "2889  ef5f221a0c4ed1747aa949dba2f629e98f3a9438  829.307623\n",
       "2110  34333ed47110024961ff7a95cc92900ab6fbdd33  764.293013\n",
       "2998  e6c93e838e090b96a97db0a212e3d5ad7e67a8c4  753.173844\n",
       "1197  34d6082a74330b3f5bc565fc573674afaa03f661  811.528055\n",
       "2131  bb4ec0a4a66bea29328f27b05364af97a510cee0  811.871648\n",
       "307   c8feec2a94d996d03534ce935dec7a034667f107  819.009687\n",
       "1037  fe8333dd7a48c2c6da19394b93e6413b2d969588  711.435591\n",
       "2615  c759ad904d22197f1cf3b5ef9e41ee1609513cea  715.723726\n",
       "2863  1c6cbf69a4c9bb53f3ca9c5417965c00e9f4404c  699.955054\n",
       "2975  47f77c8edf0812b4dc1a2279f060e79c1d40b791  754.636493\n",
       "3707  3b6f2590bb08848ae5b7cd08a41d1cc6a628c1f6  745.648422\n",
       "3283  d3b6eab5a3d56dc9823cf355b3ac1f647378fd4c  637.209050\n",
       "3882  2abaa7d3759d277dd920da6e8099939c1f794be0  705.766425\n",
       "3540  687448d804c924b64fb61ba94b1846007d6ab904  660.782398"
      ]
     },
     "execution_count": 177,
     "metadata": {},
     "output_type": "execute_result"
    }
   ],
   "source": [
    "output.drop(['NOTA_PROVA'], axis=1).head(20)"
   ]
  },
  {
   "cell_type": "code",
   "execution_count": 180,
   "metadata": {},
   "outputs": [],
   "source": [
    "output.to_csv('answer.csv', index=False)"
   ]
  },
  {
   "cell_type": "code",
   "execution_count": null,
   "metadata": {},
   "outputs": [],
   "source": []
  }
 ],
 "metadata": {
  "kernelspec": {
   "display_name": "Python 3",
   "language": "python",
   "name": "python3"
  },
  "language_info": {
   "codemirror_mode": {
    "name": "ipython",
    "version": 3
   },
   "file_extension": ".py",
   "mimetype": "text/x-python",
   "name": "python",
   "nbconvert_exporter": "python",
   "pygments_lexer": "ipython3",
   "version": "3.7.0"
  }
 },
 "nbformat": 4,
 "nbformat_minor": 2
}
